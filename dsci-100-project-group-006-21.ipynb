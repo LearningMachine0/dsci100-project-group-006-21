{
 "cells": [
  {
   "cell_type": "markdown",
   "id": "2c48f209-6491-4b23-b3a9-4d4f6746f67d",
   "metadata": {},
   "source": [
    "# DSCI 100 Group Project\n",
    "\n",
    "Group 006-21\n",
    "\n",
    "Members: Kai-Yu She, Isik Karacelik, Kaasvi Bhatia, Vincent Kao"
   ]
  },
  {
   "cell_type": "markdown",
   "id": "ff4559dc-3d5e-4cbb-aa95-7be2ecd0e96e",
   "metadata": {},
   "source": [
    "## Introduction"
   ]
  },
  {
   "cell_type": "markdown",
   "id": "a1975484-f981-458d-b9b3-acf48787a6bc",
   "metadata": {},
   "source": [
    "## Methods & Results"
   ]
  },
  {
   "cell_type": "markdown",
   "id": "976fb965-9888-4e80-b51b-1bb08395b6b7",
   "metadata": {},
   "source": [
    "## Discussion"
   ]
  },
  {
   "cell_type": "code",
   "execution_count": null,
   "id": "cbb8320d-1b44-4fc1-bb14-0f9abf626eab",
   "metadata": {},
   "outputs": [],
   "source": []
  }
 ],
 "metadata": {
  "kernelspec": {
   "display_name": "R",
   "language": "R",
   "name": "ir"
  },
  "language_info": {
   "codemirror_mode": "r",
   "file_extension": ".r",
   "mimetype": "text/x-r-source",
   "name": "R",
   "pygments_lexer": "r",
   "version": "4.3.3"
  }
 },
 "nbformat": 4,
 "nbformat_minor": 5
}
